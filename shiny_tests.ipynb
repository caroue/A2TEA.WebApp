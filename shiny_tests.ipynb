{
 "cells": [
  {
   "cell_type": "code",
   "execution_count": 93,
   "metadata": {},
   "outputs": [
    {
     "name": "stderr",
     "output_type": "stream",
     "text": [
      "also installing the dependencies ‘htmlwidgets’, ‘crosstalk’\n",
      "\n",
      "\n",
      "Updating HTML index of packages in '.Library'\n",
      "\n",
      "Making 'packages.html' ...\n",
      " done\n",
      "\n"
     ]
    }
   ],
   "source": [
    "if (!requireNamespace(\"BiocManager\", quietly = TRUE))\n",
    "  install.packages(\"BiocManager\")\n",
    "\n",
    "#BiocManager::install(\"treeio\")\n",
    "#BiocManager::install(\"ggtree\")\n",
    "#BiocManager::install(\"Biostrings\")\n",
    "#BiocManager::install(\"XVector\")\n",
    "\n",
    "#install.packages(\"tidyverse\")\n",
    "#install.packages(\"ggplot2\")\n",
    "#install.packages(\"ggstance\")\n",
    "#install.packages(\"ggmsa\")\n",
    "#install.packages(\"seqmagick\")\n",
    "#install.packages(\"shiny\")\n",
    "#install.packages(\"DT\")"
   ]
  },
  {
   "cell_type": "code",
   "execution_count": 94,
   "metadata": {},
   "outputs": [
    {
     "name": "stderr",
     "output_type": "stream",
     "text": [
      "\n",
      "Attaching package: ‘DT’\n",
      "\n",
      "\n",
      "The following objects are masked from ‘package:shiny’:\n",
      "\n",
      "    dataTableOutput, renderDataTable\n",
      "\n",
      "\n"
     ]
    }
   ],
   "source": [
    "library(treeio)\n",
    "library(ggtree)\n",
    "library(tidyverse)\n",
    "library(ggplot2)\n",
    "library(ggstance)\n",
    "library(Biostrings)\n",
    "library(ggmsa)\n",
    "library(seqmagick)\n",
    "library(XVector)\n",
    "library(gtable)\n",
    "library(grid)\n",
    "library(shiny)\n",
    "library(DT)"
   ]
  },
  {
   "cell_type": "markdown",
   "metadata": {},
   "source": [
    "## Likely, the simplest shiny app ever"
   ]
  },
  {
   "cell_type": "code",
   "execution_count": 2,
   "metadata": {
    "collapsed": true
   },
   "outputs": [
    {
     "name": "stderr",
     "output_type": "stream",
     "text": [
      "\n",
      "Listening on http://127.0.0.1:7254\n",
      "\n"
     ]
    }
   ],
   "source": [
    "server <- function(input, output, session) { } #the server\n",
    "\n",
    "ui <- basicPage(\"This is a real Shiny app and jupyter is the best thing ever ;D\") # the user interface\n",
    "\n",
    "shinyApp(ui = ui, server = server) # this launches your app"
   ]
  },
  {
   "cell_type": "markdown",
   "metadata": {},
   "source": [
    "## Ok so let's build a web app which displays some trees\n",
    "## overview: 4 parts - preprocessing, ui, server, app calling"
   ]
  },
  {
   "cell_type": "markdown",
   "metadata": {},
   "source": [
    "### preporcessing"
   ]
  },
  {
   "cell_type": "code",
   "execution_count": 4,
   "metadata": {},
   "outputs": [],
   "source": [
    "## define my two classes - defining the A2TEA HYPOTHESES object ;D\n",
    "# class for the expanded_OG - containing all different types of data we have on it\n",
    "setClass(\"expanded_OG\", slots=list(genes=\"spec_tbl_df\", \n",
    "                                  fasta_files=\"list\", \n",
    "                                  msa=\"AAMultipleAlignment\", \n",
    "                                  tree=\"phylo\"))\n",
    "\n",
    "# class for the hypotheses\n",
    "setClass(\"hypothesis\", slots=list(description=\"character\", \n",
    "                                  number=\"character\",\n",
    "                                  expanded_in =\"character\", \n",
    "                                  compared_to=\"character\", \n",
    "                                  expanded_OGs=\"list\"))\n",
    "\n",
    "\n",
    "#load the A2TEA input\n",
    "#load(\"/home/tyll/Desktop/PhD/A2TEA/shiny/example_trees/A2TEA_finished.RData\")"
   ]
  },
  {
   "cell_type": "markdown",
   "metadata": {},
   "source": [
    "### ui"
   ]
  },
  {
   "cell_type": "code",
   "execution_count": 113,
   "metadata": {},
   "outputs": [],
   "source": [
    "# Define UI for tree app ----\n",
    "\n",
    "#hypothesesList <- as.list(hypotheses$hypothesis)\n",
    "#names(hypothesesList) <- hypotheses$name\n",
    "#hypothesesList\n",
    "\n",
    "\n",
    "# Allow specific errors to be displayed on screen, instead of displaying a generic error\n",
    "options(shiny.sanitize.errors = FALSE)\n",
    "\n",
    "ui <- pageWithSidebar(\n",
    "  \n",
    "  # App title ----\n",
    "  headerPanel(\"Tree building\"),\n",
    "  \n",
    "  # Sidebar panel for inputs ----\n",
    "  sidebarPanel(\n",
    "  \n",
    "      fileInput(inputId = \"A2TEA\",\n",
    "                label = \"Upload A2TEA.RData file:\",\n",
    "                multiple = FALSE,\n",
    "                accept = \".RData\"),\n",
    "#                accept = \".tsv\"), \n",
    "      \n",
    "#      fileInput(inputId = \"HYPOTHESES\",\n",
    "#                label = \"Upload HYPOTHESES.a2tea.rds file:\",\n",
    "#                multiple = FALSE,\n",
    "#                accept = \".rds\"), \n",
    "      \n",
    "#      fileInput(inputId = \"HOG_DE\",\n",
    "#                label = \"Upload HOG_DE.a2tea.rds file:\",\n",
    "#                multiple = FALSE,\n",
    "#                accept = \".rds\"), \n",
    "      \n",
    "        # Input: Selector for variable to plot against mpg ----\n",
    "      selectInput(\"select\",\n",
    "                    label = h3(\"Select hypothesis:\"),\n",
    "                    \"\") \n",
    "#                    choices = c(\"A\", \"B\", \"C\"))\n",
    "#                    choices = textOutput(\"hypothesesList\"))\n",
    "#                    choices = hypothesesList)\n",
    "  ),\n",
    "  \n",
    "  # Main panel for displaying outputs ----\n",
    "  mainPanel(\n",
    "      h3(textOutput(\"text\")),\n",
    "      DT::dataTableOutput(\"HOG_DE_DT\"),\n",
    "  )\n",
    ")"
   ]
  },
  {
   "cell_type": "code",
   "execution_count": 79,
   "metadata": {},
   "outputs": [],
   "source": [
    "?mainPanel"
   ]
  },
  {
   "cell_type": "code",
   "execution_count": 71,
   "metadata": {
    "collapsed": true
   },
   "outputs": [
    {
     "data": {
      "text/html": [
       "<pre class=language-r><code>function (.data, ...) \n",
       "{\n",
       "<span style=white-space:pre-wrap>    UseMethod(\"select\")</span>\n",
       "}</code></pre>"
      ],
      "text/latex": [
       "\\begin{minted}{r}\n",
       "function (.data, ...) \n",
       "\\{\n",
       "    UseMethod(\"select\")\n",
       "\\}\n",
       "\\end{minted}"
      ],
      "text/markdown": [
       "```r\n",
       "function (.data, ...) \n",
       "{\n",
       "    UseMethod(\"select\")\n",
       "}\n",
       "```"
      ],
      "text/plain": [
       "function (.data, ...) \n",
       "{\n",
       "    UseMethod(\"select\")\n",
       "}\n",
       "<bytecode: 0x5563ba447f38>\n",
       "<environment: namespace:dplyr>"
      ]
     },
     "metadata": {},
     "output_type": "display_data"
    }
   ],
   "source": [
    "#?selectInput\n",
    "#create input\n",
    "#mylist <- as.list(paste0(\"hypothesis_\", hypotheses$hypothesis))\n",
    "#names(mylist) <- hypotheses$name\n",
    "#mylist\n",
    "\n",
    "#accessing the hypotheses\n",
    "#HYPOTHESES.a2tea$hypothesis_1@expanded_in\n",
    "#mylist[[1]]\n",
    "#HYPOTHESES.a2tea[[mylist[[1]]]]@expanded_in\n",
    "\n",
    "select\n",
    "#HYPOTHESES.a2tea[[eval(parse(select$input))]]@compared_to"
   ]
  },
  {
   "cell_type": "markdown",
   "metadata": {},
   "source": [
    "### server"
   ]
  },
  {
   "cell_type": "code",
   "execution_count": 116,
   "metadata": {},
   "outputs": [],
   "source": [
    "#increasing maximum file size for upload\n",
    "#https://stackoverflow.com/questions/18037737/how-to-change-maximum-upload-size-exceeded-restriction-in-shiny-and-save-user\n",
    "options(shiny.maxRequestSize=50*1024^2)\n",
    "\n",
    "myDataFrame <- data.frame(names=c(\"\"))\n",
    "\n",
    "\n",
    "server <- function(input, output, session) {\n",
    "    \n",
    "#    tsv <- reactive({\n",
    "#     inFile <- input$hypotheses\n",
    "#     if (is.null(inFile)) {\n",
    "#         d <- myDataFrame\n",
    "#     } else {\n",
    "#         d <- read_tsv(input$hypotheses$datapath)\n",
    "#        }\n",
    "#        d\n",
    "#    })  \n",
    " \n",
    "\n",
    "    tsv <- reactive({\n",
    "     inFile <- input$A2TEA\n",
    "     if (is.null(inFile)) {\n",
    "         d <- myDataFrame\n",
    "    } else {\n",
    "    t = new.env()\n",
    "    load(input$A2TEA$datapath, envir = t)\n",
    "    d <- get(\"hypotheses\", envir=t)\n",
    "     }\n",
    "     d\n",
    "   })  \n",
    "    \n",
    "    output$hypothesesList <- renderText({\n",
    "        tsv()$name\n",
    "    })\n",
    "    \n",
    "    observe({\n",
    "       updateSelectInput(session, \"select\",\n",
    "                         label = \"Select Hypothesis:\",\n",
    "                         choices = tsv()$name,\n",
    "                         selected = tsv()$name[1])\n",
    "\n",
    "    \n",
    "# also read-in the DE genes table \n",
    "    HOG_DE <- reactive({\n",
    "     inFile <- input$A2TEA\n",
    "     if (is.null(inFile)) {\n",
    "         d <- myDataFrame\n",
    "    } else {\n",
    "    t2 = new.env()\n",
    "    load(input$A2TEA$datapath, envir = t2)\n",
    "    d <- get(\"HOG_DE.a2tea\", envir = t2)\n",
    "     }\n",
    "     d\n",
    "   }) \n",
    "\n",
    "# normal table chokes on large size of df\n",
    "#    output$HOG_DE <- renderTable({\n",
    "#        HOG_DE()\n",
    "#    })\n",
    "        \n",
    "    output$HOG_DE_DT <- DT::renderDataTable({\n",
    "        HOG_DE()\n",
    "  })\n",
    "    \n",
    "#also read-in custom A2TEA object\n",
    "    HYPOTHESES <- reactive({\n",
    "     inFile <- input$A2TEA\n",
    "     if (is.null(inFile)) {\n",
    "         d <- myDataFrame\n",
    "    } else {\n",
    "    t3 = new.env()\n",
    "    load(input$A2TEA$datapath, envir = t3)\n",
    "    d <- get(\"HYPOTHESES.a2tea\", envir = t3)\n",
    "     }\n",
    "     d\n",
    "   })  \n",
    "    \n",
    "        \n",
    "    hypothesisNUM <- reactive({\n",
    "       HYPOTHESES()[[tsv()$hypothesis[tsv()$name==input$select]]]@number\n",
    "    })\n",
    "   \n",
    "     output$text <- renderText({\n",
    "        hypothesisNUM()\n",
    "    })    \n",
    "        \n",
    "    \n",
    "    # read-in the .RData object\n",
    "#    data <- reactive({\n",
    "#       readRDS(input$HYPOTHESES$datapath)\n",
    "#    })\n",
    "    \n",
    "#    hypothesisNUM <- reactive({\n",
    "##        data()[[as.numeric(input$select)]]@number\n",
    "#        data()[[hypotheses$hypothesis[hypotheses$name==input$select]]]@number\n",
    "#    })\n",
    "   \n",
    "#      output$text <- renderText({\n",
    "#        hypothesisNUM()\n",
    "#    })\n",
    "    \n",
    "#    output$recFacetPlot <- renderPlot({\n",
    "        \n",
    "#  })\n",
    "\n",
    "    })\n",
    "    \n",
    "}"
   ]
  },
  {
   "cell_type": "code",
   "execution_count": 232,
   "metadata": {
    "collapsed": true
   },
   "outputs": [
    {
     "name": "stderr",
     "output_type": "stream",
     "text": [
      "\n",
      "\u001b[36m──\u001b[39m \u001b[1m\u001b[1mColumn specification\u001b[1m\u001b[22m \u001b[36m───────────────────────────────────────────────────────────────────────────────────────────────\u001b[39m\n",
      "cols(\n",
      "  hypothesis = \u001b[32mcol_double()\u001b[39m,\n",
      "  name = \u001b[31mcol_character()\u001b[39m,\n",
      "  expanded_in = \u001b[31mcol_character()\u001b[39m,\n",
      "  compared_to = \u001b[31mcol_character()\u001b[39m\n",
      ")\n",
      "\n",
      "\n"
     ]
    },
    {
     "data": {
      "text/html": [
       "<style>\n",
       ".list-inline {list-style: none; margin:0; padding: 0}\n",
       ".list-inline>li {display: inline-block}\n",
       ".list-inline>li:not(:last-child)::after {content: \"\\00b7\"; padding: 0 .5ex}\n",
       "</style>\n",
       "<ol class=list-inline><li>'Expanded in Arabidopsis compared to Monocots'</li><li>'Expanded in barley compared to maize'</li></ol>\n"
      ],
      "text/latex": [
       "\\begin{enumerate*}\n",
       "\\item 'Expanded in Arabidopsis compared to Monocots'\n",
       "\\item 'Expanded in barley compared to maize'\n",
       "\\end{enumerate*}\n"
      ],
      "text/markdown": [
       "1. 'Expanded in Arabidopsis compared to Monocots'\n",
       "2. 'Expanded in barley compared to maize'\n",
       "\n",
       "\n"
      ],
      "text/plain": [
       "[1] \"Expanded in Arabidopsis compared to Monocots\"\n",
       "[2] \"Expanded in barley compared to maize\"        "
      ]
     },
     "metadata": {},
     "output_type": "display_data"
    }
   ],
   "source": [
    "#saveRDS(HYPOTHESES.a2tea, \"example_trees/HYPOTHESES.a2tea.rds\")\n",
    "#HYPOTHESES.a2tea[[testSelect]]@compared_to\n",
    "read_tsv(\"example_trees/hypotheses.tsv\")$name"
   ]
  },
  {
   "cell_type": "markdown",
   "metadata": {},
   "source": [
    "### app calling"
   ]
  },
  {
   "cell_type": "code",
   "execution_count": 117,
   "metadata": {},
   "outputs": [
    {
     "name": "stderr",
     "output_type": "stream",
     "text": [
      "\n",
      "Listening on http://127.0.0.1:4827\n",
      "\n",
      "Warning message:\n",
      "“Error in .subset2: attempt to select less than one element in get1index”\n",
      "Warning message:\n",
      "“Error in [[: attempt to select less than one element in get1index”\n"
     ]
    }
   ],
   "source": [
    "shinyApp(ui, server)"
   ]
  },
  {
   "cell_type": "markdown",
   "metadata": {},
   "source": [
    "### playground & working examples"
   ]
  },
  {
   "cell_type": "code",
   "execution_count": 282,
   "metadata": {},
   "outputs": [
    {
     "data": {
      "text/html": [
       "2"
      ],
      "text/latex": [
       "2"
      ],
      "text/markdown": [
       "2"
      ],
      "text/plain": [
       "[1] 2"
      ]
     },
     "metadata": {},
     "output_type": "display_data"
    }
   ],
   "source": [
    "hypotheses$hypothesis[hypotheses$name==\"Expanded in barley compared to maize\"]"
   ]
  },
  {
   "cell_type": "code",
   "execution_count": 247,
   "metadata": {},
   "outputs": [],
   "source": [
    "saveRDS( data.frame(names=c(\"Jill\",\"Jane\",\"Megan\")),\"example_trees/myDataFrame.rds\")"
   ]
  },
  {
   "cell_type": "markdown",
   "metadata": {},
   "source": [
    "#### completely working mini application showcasing runtime loading of data and reactive dropdown"
   ]
  },
  {
   "cell_type": "code",
   "execution_count": 249,
   "metadata": {},
   "outputs": [
    {
     "name": "stderr",
     "output_type": "stream",
     "text": [
      "\n",
      "Listening on http://127.0.0.1:5402\n",
      "\n"
     ]
    }
   ],
   "source": [
    "myDataFrame <- data.frame(names=c(\"Tom\",\"Dick\",\"Harry\"))\n",
    "\n",
    "ui <- shinyUI(\n",
    "    fluidPage(\n",
    "        fileInput(\"file1\", \"Choose file to upload\", accept = \".rds\"),\n",
    "        selectInput(\"myNames\",\"Names\", \"\"),\n",
    "        tableOutput(\"contents\")\n",
    "    )\n",
    ")\n",
    "\n",
    "server <- function(input, output, session) {\n",
    "\n",
    "    myData <- reactive({\n",
    "        inFile <- input$file1\n",
    "        if (is.null(inFile)) {\n",
    "            d <- myDataFrame\n",
    "        } else {\n",
    "            d <- readRDS(inFile$datapath)\n",
    "        }\n",
    "        d\n",
    "    })\n",
    "\n",
    "    output$contents <- renderTable({\n",
    "        myData()\n",
    "    })\n",
    "\n",
    "    observe({\n",
    "         updateSelectInput(session, \"myNames\",\n",
    "                           label = \"myNames\",\n",
    "                           choices = myData()$names,\n",
    "                           selected = myData()$names[1])\n",
    "    })\n",
    "\n",
    "}\n",
    "\n",
    "shinyApp(ui, server)\n"
   ]
  },
  {
   "cell_type": "markdown",
   "metadata": {},
   "source": [
    "#### shiny example of using RData input"
   ]
  },
  {
   "cell_type": "code",
   "execution_count": 47,
   "metadata": {},
   "outputs": [
    {
     "name": "stderr",
     "output_type": "stream",
     "text": [
      "\n",
      "Listening on http://127.0.0.1:4827\n",
      "\n"
     ]
    }
   ],
   "source": [
    "#The example allows you to upload .RData files.\n",
    "#The approach with load and get allows you to assign the loaded data to a variable name of your choice.\n",
    "#For the matter of the example being \"standalone\" I inserted the top section that stores \n",
    "#two vectors to your disk in order to load and plot them later.\n",
    "\n",
    "\n",
    "# Define two datasets and store them to disk\n",
    "x <- rnorm(100)\n",
    "save(x, file = \"x.RData\")\n",
    "#rm(x)\n",
    "y <- rnorm(100, mean = 2)\n",
    "save(y, file = \"y.RData\")\n",
    "#rm(y)\n",
    "# both\n",
    "save(x, y, file = \"z.RData\")\n",
    "\n",
    "# This function, borrowed from http://www.r-bloggers.com/safe-loading-of-rdata-files/, load the Rdata into a new environment to avoid side effects\n",
    "LoadToEnvironment <- function(RData, env=new.env()) {\n",
    "  load(RData, env)\n",
    "  return(env)\n",
    "}\n",
    "\n",
    "\n",
    "# Define UI\n",
    "ui <- shinyUI(fluidPage(\n",
    "  titlePanel(\".RData File Upload Test\"),\n",
    "  mainPanel(\n",
    "    fileInput(\"file\", label = \"\"),\n",
    "    actionButton(inputId=\"plot\",\"Plot\"),\n",
    "    plotOutput(\"hist\"))\n",
    "  )\n",
    ")\n",
    "\n",
    "# Define server logic\n",
    "server <- shinyServer(function(input, output) {\n",
    "\n",
    "  observeEvent(input$plot,{\n",
    "    if ( is.null(input$file)) return(NULL)\n",
    "    inFile <- input$file\n",
    "    file <- inFile$datapath\n",
    "    # load the file into new environment and get it from there\n",
    "#    name <- load(file, envir = e)\n",
    "#    data <- e[[name]]\n",
    "    # this works but not really what I need\n",
    "#    data <- e[[name[1]]]\n",
    "    t = new.env()\n",
    "    load(file, envir = t)\n",
    "    data <- get(\"y\", envir=t)\n",
    "\n",
    "      \n",
    "      \n",
    "#    observeEvent(input$plot,{\n",
    "#        if ( is.null(input$file)) return(NULL)\n",
    "#        inFile <- input$file\n",
    "#        file <- inFile$datapath\n",
    "#    # Use a reactiveFileReader to read the file on change, and load the content into a new environment\n",
    "#    env <- reactiveFileReader(1000, session, \"z.RData\", LoadToEnvironment)\n",
    "#    # Access the first item in the new environment, assuming that the Rdata contains only 2 items which is a data frame\n",
    "#    env()[[names(env())[2]]]\n",
    "    \n",
    "    \n",
    "    # Plot the data\n",
    "    output$hist <- renderPlot({\n",
    "      hist(data)\n",
    "    })\n",
    "  })\n",
    "})\n",
    "\n",
    "# Run the application \n",
    "shinyApp(ui = ui, server = server)"
   ]
  },
  {
   "cell_type": "code",
   "execution_count": 42,
   "metadata": {},
   "outputs": [
    {
     "name": "stdout",
     "output_type": "stream",
     "text": [
      " num [1:100] 3.011 0.694 1.618 1.81 2.27 ...\n",
      " num [1:100] 3.011 0.694 1.618 1.81 2.27 ...\n"
     ]
    }
   ],
   "source": [
    "e = new.env()\n",
    "name <- load(\"z.RData\", envir = e)\n",
    "#mget(c(\"y\",\"x\"), envir=e)\n",
    "#get returns exactly the object\n",
    "test <- get(\"y\", envir=e)\n",
    "str(test)\n",
    "str(y)"
   ]
  },
  {
   "cell_type": "code",
   "execution_count": 112,
   "metadata": {},
   "outputs": [],
   "source": [
    "#load(\"example_trees//A2TEA_finished.RData\")\n",
    "#hypotheses[]\n",
    "#HOG_DE.a2tea\n",
    "#HYPOTHESES.a2tea"
   ]
  }
 ],
 "metadata": {
  "kernelspec": {
   "display_name": "R",
   "language": "R",
   "name": "ir"
  },
  "language_info": {
   "codemirror_mode": "r",
   "file_extension": ".r",
   "mimetype": "text/x-r-source",
   "name": "R",
   "pygments_lexer": "r",
   "version": "4.0.3"
  }
 },
 "nbformat": 4,
 "nbformat_minor": 4
}
