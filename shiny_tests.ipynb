{
 "cells": [
  {
   "cell_type": "code",
   "execution_count": null,
   "metadata": {},
   "outputs": [],
   "source": [
    "if (!requireNamespace(\"BiocManager\", quietly = TRUE))\n",
    "  install.packages(\"BiocManager\")\n",
    "\n",
    "#BiocManager::install(\"treeio\")\n",
    "#BiocManager::install(\"ggtree\")\n",
    "#BiocManager::install(\"Biostrings\")\n",
    "#BiocManager::install(\"XVector\")\n",
    "\n",
    "#install.packages(\"tidyverse\")\n",
    "#install.packages(\"ggplot2\")\n",
    "#install.packages(\"ggstance\")\n",
    "#install.packages(\"ggmsa\")\n",
    "#install.packages(\"seqmagick\")\n",
    "#install.packages(\"shiny\")"
   ]
  },
  {
   "cell_type": "code",
   "execution_count": 1,
   "metadata": {},
   "outputs": [
    {
     "name": "stderr",
     "output_type": "stream",
     "text": [
      "Registered S3 method overwritten by 'treeio':\n",
      "  method     from\n",
      "  root.phylo ape \n",
      "\n",
      "treeio v1.13.1  For help: https://yulab-smu.github.io/treedata-book/\n",
      "\n",
      "If you use treeio in published research, please cite:\n",
      "\n",
      "LG Wang, TTY Lam, S Xu, Z Dai, L Zhou, T Feng, P Guo, CW Dunn, BR Jones, T Bradley, H Zhu, Y Guan, Y Jiang, G Yu. treeio: an R package for phylogenetic tree input and output with richly annotated and associated data. Molecular Biology and Evolution 2020, 37(2):599-603. doi: 10.1093/molbev/msz240\n",
      "\n",
      "\n",
      "ggtree v2.3.7  For help: https://yulab-smu.github.io/treedata-book/\n",
      "\n",
      "If you use ggtree in published research, please cite the most appropriate paper(s):\n",
      "\n",
      "\u001b[36m-\u001b[39m Guangchuang Yu. Using ggtree to visualize data on tree-like structures. Current Protocols in Bioinformatics, 2020, 69:e96. doi:10.1002/cpbi.96\n",
      "\u001b[36m-\u001b[39m Guangchuang Yu, Tommy Tsan-Yuk Lam, Huachen Zhu, Yi Guan. Two methods for mapping and visualizing associated data on phylogeny using ggtree. Molecular Biology and Evolution 2018, 35(12):3041-3043. doi:10.1093/molbev/msy194\n",
      "\u001b[36m-\u001b[39m Guangchuang Yu, David Smith, Huachen Zhu, Yi Guan, Tommy Tsan-Yuk Lam. ggtree: an R package for visualization and annotation of phylogenetic trees with their covariates and other associated data. Methods in Ecology and Evolution 2017, 8(1):28-36. doi:10.1111/2041-210X.12628\n",
      "\n",
      "\n",
      "\n",
      "── \u001b[1mAttaching packages\u001b[22m ────────────────────────────────────────────────────────────────────────────── tidyverse 1.3.0 ──\n",
      "\n",
      "\u001b[32m✔\u001b[39m \u001b[34mggplot2\u001b[39m 3.3.2     \u001b[32m✔\u001b[39m \u001b[34mpurrr  \u001b[39m 0.3.4\n",
      "\u001b[32m✔\u001b[39m \u001b[34mtibble \u001b[39m 3.0.4     \u001b[32m✔\u001b[39m \u001b[34mdplyr  \u001b[39m 1.0.2\n",
      "\u001b[32m✔\u001b[39m \u001b[34mtidyr  \u001b[39m 1.1.2     \u001b[32m✔\u001b[39m \u001b[34mstringr\u001b[39m 1.4.0\n",
      "\u001b[32m✔\u001b[39m \u001b[34mreadr  \u001b[39m 1.4.0     \u001b[32m✔\u001b[39m \u001b[34mforcats\u001b[39m 0.5.0\n",
      "\n",
      "── \u001b[1mConflicts\u001b[22m ───────────────────────────────────────────────────────────────────────────────── tidyverse_conflicts() ──\n",
      "\u001b[31m✖\u001b[39m \u001b[34mtidyr\u001b[39m::\u001b[32mexpand()\u001b[39m masks \u001b[34mggtree\u001b[39m::expand()\n",
      "\u001b[31m✖\u001b[39m \u001b[34mdplyr\u001b[39m::\u001b[32mfilter()\u001b[39m masks \u001b[34mstats\u001b[39m::filter()\n",
      "\u001b[31m✖\u001b[39m \u001b[34mdplyr\u001b[39m::\u001b[32mlag()\u001b[39m    masks \u001b[34mstats\u001b[39m::lag()\n",
      "\n",
      "\n",
      "Attaching package: ‘ggstance’\n",
      "\n",
      "\n",
      "The following objects are masked from ‘package:ggplot2’:\n",
      "\n",
      "    geom_errorbarh, GeomErrorbarh\n",
      "\n",
      "\n",
      "Loading required package: BiocGenerics\n",
      "\n",
      "Loading required package: parallel\n",
      "\n",
      "\n",
      "Attaching package: ‘BiocGenerics’\n",
      "\n",
      "\n",
      "The following objects are masked from ‘package:parallel’:\n",
      "\n",
      "    clusterApply, clusterApplyLB, clusterCall, clusterEvalQ,\n",
      "    clusterExport, clusterMap, parApply, parCapply, parLapply,\n",
      "    parLapplyLB, parRapply, parSapply, parSapplyLB\n",
      "\n",
      "\n",
      "The following objects are masked from ‘package:dplyr’:\n",
      "\n",
      "    combine, intersect, setdiff, union\n",
      "\n",
      "\n",
      "The following objects are masked from ‘package:stats’:\n",
      "\n",
      "    IQR, mad, sd, var, xtabs\n",
      "\n",
      "\n",
      "The following objects are masked from ‘package:base’:\n",
      "\n",
      "    anyDuplicated, append, as.data.frame, basename, cbind, colnames,\n",
      "    dirname, do.call, duplicated, eval, evalq, Filter, Find, get, grep,\n",
      "    grepl, intersect, is.unsorted, lapply, Map, mapply, match, mget,\n",
      "    order, paste, pmax, pmax.int, pmin, pmin.int, Position, rank,\n",
      "    rbind, Reduce, rownames, sapply, setdiff, sort, table, tapply,\n",
      "    union, unique, unsplit, which.max, which.min\n",
      "\n",
      "\n",
      "Loading required package: S4Vectors\n",
      "\n",
      "Loading required package: stats4\n",
      "\n",
      "\n",
      "Attaching package: ‘S4Vectors’\n",
      "\n",
      "\n",
      "The following objects are masked from ‘package:dplyr’:\n",
      "\n",
      "    first, rename\n",
      "\n",
      "\n",
      "The following object is masked from ‘package:tidyr’:\n",
      "\n",
      "    expand\n",
      "\n",
      "\n",
      "The following object is masked from ‘package:ggtree’:\n",
      "\n",
      "    expand\n",
      "\n",
      "\n",
      "The following object is masked from ‘package:base’:\n",
      "\n",
      "    expand.grid\n",
      "\n",
      "\n",
      "Loading required package: IRanges\n",
      "\n",
      "\n",
      "Attaching package: ‘IRanges’\n",
      "\n",
      "\n",
      "The following objects are masked from ‘package:dplyr’:\n",
      "\n",
      "    collapse, desc, slice\n",
      "\n",
      "\n",
      "The following object is masked from ‘package:purrr’:\n",
      "\n",
      "    reduce\n",
      "\n",
      "\n",
      "The following object is masked from ‘package:ggtree’:\n",
      "\n",
      "    collapse\n",
      "\n",
      "\n",
      "Loading required package: XVector\n",
      "\n",
      "\n",
      "Attaching package: ‘XVector’\n",
      "\n",
      "\n",
      "The following object is masked from ‘package:purrr’:\n",
      "\n",
      "    compact\n",
      "\n",
      "\n",
      "\n",
      "Attaching package: ‘Biostrings’\n",
      "\n",
      "\n",
      "The following object is masked from ‘package:treeio’:\n",
      "\n",
      "    mask\n",
      "\n",
      "\n",
      "The following object is masked from ‘package:base’:\n",
      "\n",
      "    strsplit\n",
      "\n",
      "\n"
     ]
    }
   ],
   "source": [
    "library(treeio)\n",
    "library(ggtree)\n",
    "library(tidyverse)\n",
    "library(ggplot2)\n",
    "library(ggstance)\n",
    "library(Biostrings)\n",
    "library(ggmsa)\n",
    "library(seqmagick)\n",
    "library(XVector)\n",
    "library(gtable)\n",
    "library(grid)\n",
    "library(shiny)"
   ]
  },
  {
   "cell_type": "markdown",
   "metadata": {},
   "source": [
    "## Likely, the simplest shiny app ever"
   ]
  },
  {
   "cell_type": "code",
   "execution_count": 2,
   "metadata": {
    "collapsed": true
   },
   "outputs": [
    {
     "name": "stderr",
     "output_type": "stream",
     "text": [
      "\n",
      "Listening on http://127.0.0.1:7254\n",
      "\n"
     ]
    }
   ],
   "source": [
    "server <- function(input, output, session) { } #the server\n",
    "\n",
    "ui <- basicPage(\"This is a real Shiny app and jupyter is the best thing ever ;D\") # the user interface\n",
    "\n",
    "shinyApp(ui = ui, server = server) # this launches your app"
   ]
  },
  {
   "cell_type": "markdown",
   "metadata": {},
   "source": [
    "## Ok so let's build a web app which displays some trees\n",
    "## overview: 4 parts - preprocessing, ui, server, app calling"
   ]
  },
  {
   "cell_type": "markdown",
   "metadata": {},
   "source": [
    "### preporcessing"
   ]
  },
  {
   "cell_type": "code",
   "execution_count": 4,
   "metadata": {},
   "outputs": [],
   "source": [
    "## define my two classes - defining the A2TEA HYPOTHESES object ;D\n",
    "# class for the expanded_OG - containing all different types of data we have on it\n",
    "setClass(\"expanded_OG\", slots=list(genes=\"spec_tbl_df\", \n",
    "                                  fasta_files=\"list\", \n",
    "                                  msa=\"AAMultipleAlignment\", \n",
    "                                  tree=\"phylo\"))\n",
    "\n",
    "# class for the hypotheses\n",
    "setClass(\"hypothesis\", slots=list(description=\"character\", \n",
    "                                  number=\"character\",\n",
    "                                  expanded_in =\"character\", \n",
    "                                  compared_to=\"character\", \n",
    "                                  expanded_OGs=\"list\"))\n",
    "\n",
    "\n",
    "#load the A2TEA input\n",
    "#load(\"/home/tyll/Desktop/PhD/A2TEA/shiny/example_trees/A2TEA_finished.RData\")"
   ]
  },
  {
   "cell_type": "markdown",
   "metadata": {},
   "source": [
    "### ui"
   ]
  },
  {
   "cell_type": "code",
   "execution_count": 265,
   "metadata": {},
   "outputs": [],
   "source": [
    "# Define UI for tree app ----\n",
    "\n",
    "#hypothesesList <- as.list(hypotheses$hypothesis)\n",
    "#names(hypothesesList) <- hypotheses$name\n",
    "#hypothesesList\n",
    "\n",
    "\n",
    "ui <- pageWithSidebar(\n",
    "  \n",
    "  # App title ----\n",
    "  headerPanel(\"Tree building\"),\n",
    "  \n",
    "  # Sidebar panel for inputs ----\n",
    "  sidebarPanel(\n",
    "  \n",
    "      fileInput(inputId = \"hypotheses\",\n",
    "                label = \"Upload hypotheses.tsv file:\",\n",
    "                multiple = FALSE,\n",
    "                accept = \".tsv\"), \n",
    "      \n",
    "      fileInput(inputId = \"HYPOTHESES\",\n",
    "                label = \"Upload HYPOTHESES.a2tea.rds file:\",\n",
    "                multiple = FALSE,\n",
    "                accept = \".rds\"), \n",
    "      \n",
    "      fileInput(inputId = \"HOG_DE\",\n",
    "                label = \"Upload HOG_DE.a2tea.rds file:\",\n",
    "                multiple = FALSE,\n",
    "                accept = \".rds\"), \n",
    "      \n",
    "        # Input: Selector for variable to plot against mpg ----\n",
    "      selectInput(\"select\",\n",
    "                    label = h3(\"Select hypothesis:\"),\n",
    "                    \"\") \n",
    "#                    choices = c(\"A\", \"B\", \"C\"))\n",
    "#                    choices = textOutput(\"hypothesesList\"))\n",
    "#                    choices = hypothesesList)\n",
    "  ),\n",
    "  \n",
    "  # Main panel for displaying outputs ----\n",
    "  mainPanel(\n",
    "      h3(textOutput(\"text\"))\n",
    "  )\n",
    ")"
   ]
  },
  {
   "cell_type": "code",
   "execution_count": 71,
   "metadata": {
    "collapsed": true
   },
   "outputs": [
    {
     "data": {
      "text/html": [
       "<pre class=language-r><code>function (.data, ...) \n",
       "{\n",
       "<span style=white-space:pre-wrap>    UseMethod(\"select\")</span>\n",
       "}</code></pre>"
      ],
      "text/latex": [
       "\\begin{minted}{r}\n",
       "function (.data, ...) \n",
       "\\{\n",
       "    UseMethod(\"select\")\n",
       "\\}\n",
       "\\end{minted}"
      ],
      "text/markdown": [
       "```r\n",
       "function (.data, ...) \n",
       "{\n",
       "    UseMethod(\"select\")\n",
       "}\n",
       "```"
      ],
      "text/plain": [
       "function (.data, ...) \n",
       "{\n",
       "    UseMethod(\"select\")\n",
       "}\n",
       "<bytecode: 0x5563ba447f38>\n",
       "<environment: namespace:dplyr>"
      ]
     },
     "metadata": {},
     "output_type": "display_data"
    }
   ],
   "source": [
    "#?selectInput\n",
    "#create input\n",
    "#mylist <- as.list(paste0(\"hypothesis_\", hypotheses$hypothesis))\n",
    "#names(mylist) <- hypotheses$name\n",
    "#mylist\n",
    "\n",
    "#accessing the hypotheses\n",
    "#HYPOTHESES.a2tea$hypothesis_1@expanded_in\n",
    "#mylist[[1]]\n",
    "#HYPOTHESES.a2tea[[mylist[[1]]]]@expanded_in\n",
    "\n",
    "select\n",
    "#HYPOTHESES.a2tea[[eval(parse(select$input))]]@compared_to"
   ]
  },
  {
   "cell_type": "markdown",
   "metadata": {},
   "source": [
    "### server"
   ]
  },
  {
   "cell_type": "code",
   "execution_count": 283,
   "metadata": {},
   "outputs": [],
   "source": [
    "#increasing maximum file size for upload\n",
    "#https://stackoverflow.com/questions/18037737/how-to-change-maximum-upload-size-exceeded-restriction-in-shiny-and-save-user\n",
    "options(shiny.maxRequestSize=50*1024^2)\n",
    "\n",
    "myDataFrame <- data.frame(names=c(\"\"))\n",
    "\n",
    "\n",
    "server <- function(input, output, session) {\n",
    "    \n",
    "    tsv <- reactive({\n",
    "     inFile <- input$hypotheses\n",
    "     if (is.null(inFile)) {\n",
    "         d <- myDataFrame\n",
    "     } else {\n",
    "         d <- read_tsv(input$hypotheses$datapath)\n",
    "        }\n",
    "        d\n",
    "    })  \n",
    "    \n",
    " \n",
    "    output$hypothesesList <- renderText({\n",
    "        tsv()$name\n",
    "    })\n",
    "    \n",
    "    observe({\n",
    "       updateSelectInput(session, \"select\",\n",
    "                         label = \"Select Hypothesis:\",\n",
    "                         choices = tsv()$name,\n",
    "                         selected = tsv()$name[1])\n",
    "\n",
    "    \n",
    "    \n",
    "    \n",
    "    \n",
    "    # read-in the .RData object\n",
    "    data <- reactive({\n",
    "       readRDS(input$HYPOTHESES$datapath)\n",
    "    })\n",
    "    \n",
    "    hypothesisNUM <- reactive({\n",
    "#        data()[[as.numeric(input$select)]]@number\n",
    "        data()[[hypotheses$hypothesis[hypotheses$name==input$select]]]@number\n",
    "    })\n",
    "   \n",
    "      output$text <- renderText({\n",
    "        hypothesisNUM()\n",
    "    })\n",
    "    \n",
    "#    output$recFacetPlot <- renderPlot({\n",
    "        \n",
    "#  })\n",
    "\n",
    "    })\n",
    "    \n",
    "}"
   ]
  },
  {
   "cell_type": "code",
   "execution_count": 232,
   "metadata": {},
   "outputs": [
    {
     "name": "stderr",
     "output_type": "stream",
     "text": [
      "\n",
      "\u001b[36m──\u001b[39m \u001b[1m\u001b[1mColumn specification\u001b[1m\u001b[22m \u001b[36m───────────────────────────────────────────────────────────────────────────────────────────────\u001b[39m\n",
      "cols(\n",
      "  hypothesis = \u001b[32mcol_double()\u001b[39m,\n",
      "  name = \u001b[31mcol_character()\u001b[39m,\n",
      "  expanded_in = \u001b[31mcol_character()\u001b[39m,\n",
      "  compared_to = \u001b[31mcol_character()\u001b[39m\n",
      ")\n",
      "\n",
      "\n"
     ]
    },
    {
     "data": {
      "text/html": [
       "<style>\n",
       ".list-inline {list-style: none; margin:0; padding: 0}\n",
       ".list-inline>li {display: inline-block}\n",
       ".list-inline>li:not(:last-child)::after {content: \"\\00b7\"; padding: 0 .5ex}\n",
       "</style>\n",
       "<ol class=list-inline><li>'Expanded in Arabidopsis compared to Monocots'</li><li>'Expanded in barley compared to maize'</li></ol>\n"
      ],
      "text/latex": [
       "\\begin{enumerate*}\n",
       "\\item 'Expanded in Arabidopsis compared to Monocots'\n",
       "\\item 'Expanded in barley compared to maize'\n",
       "\\end{enumerate*}\n"
      ],
      "text/markdown": [
       "1. 'Expanded in Arabidopsis compared to Monocots'\n",
       "2. 'Expanded in barley compared to maize'\n",
       "\n",
       "\n"
      ],
      "text/plain": [
       "[1] \"Expanded in Arabidopsis compared to Monocots\"\n",
       "[2] \"Expanded in barley compared to maize\"        "
      ]
     },
     "metadata": {},
     "output_type": "display_data"
    }
   ],
   "source": [
    "#saveRDS(HYPOTHESES.a2tea, \"example_trees/HYPOTHESES.a2tea.rds\")\n",
    "#HYPOTHESES.a2tea[[testSelect]]@compared_to\n",
    "read_tsv(\"example_trees/hypotheses.tsv\")$name"
   ]
  },
  {
   "cell_type": "markdown",
   "metadata": {},
   "source": [
    "### app calling"
   ]
  },
  {
   "cell_type": "code",
   "execution_count": 284,
   "metadata": {
    "collapsed": true
   },
   "outputs": [
    {
     "name": "stderr",
     "output_type": "stream",
     "text": [
      "\n",
      "Listening on http://127.0.0.1:5402\n",
      "\n",
      "Warning message:\n",
      "“Error in readRDS: bad 'file' argument”\n",
      "\n",
      "\u001b[36m──\u001b[39m \u001b[1m\u001b[1mColumn specification\u001b[1m\u001b[22m \u001b[36m───────────────────────────────────────────────────────────────────────────────────────────────\u001b[39m\n",
      "cols(\n",
      "  hypothesis = \u001b[32mcol_double()\u001b[39m,\n",
      "  name = \u001b[31mcol_character()\u001b[39m,\n",
      "  expanded_in = \u001b[31mcol_character()\u001b[39m,\n",
      "  compared_to = \u001b[31mcol_character()\u001b[39m\n",
      ")\n",
      "\n",
      "\n",
      "Warning message:\n",
      "“Error in readRDS: bad 'file' argument”\n"
     ]
    }
   ],
   "source": [
    "shinyApp(ui, server)"
   ]
  },
  {
   "cell_type": "markdown",
   "metadata": {},
   "source": [
    "### playground & working examples"
   ]
  },
  {
   "cell_type": "code",
   "execution_count": 282,
   "metadata": {},
   "outputs": [
    {
     "data": {
      "text/html": [
       "2"
      ],
      "text/latex": [
       "2"
      ],
      "text/markdown": [
       "2"
      ],
      "text/plain": [
       "[1] 2"
      ]
     },
     "metadata": {},
     "output_type": "display_data"
    }
   ],
   "source": [
    "hypotheses$hypothesis[hypotheses$name==\"Expanded in barley compared to maize\"]"
   ]
  },
  {
   "cell_type": "code",
   "execution_count": 247,
   "metadata": {},
   "outputs": [],
   "source": [
    "saveRDS( data.frame(names=c(\"Jill\",\"Jane\",\"Megan\")),\"example_trees/myDataFrame.rds\")"
   ]
  },
  {
   "cell_type": "markdown",
   "metadata": {},
   "source": [
    "#### completely working mini application showcasing runtime loading of data and reactive dropdown"
   ]
  },
  {
   "cell_type": "code",
   "execution_count": 249,
   "metadata": {},
   "outputs": [
    {
     "name": "stderr",
     "output_type": "stream",
     "text": [
      "\n",
      "Listening on http://127.0.0.1:5402\n",
      "\n"
     ]
    }
   ],
   "source": [
    "myDataFrame <- data.frame(names=c(\"Tom\",\"Dick\",\"Harry\"))\n",
    "\n",
    "ui <- shinyUI(\n",
    "    fluidPage(\n",
    "        fileInput(\"file1\", \"Choose file to upload\", accept = \".rds\"),\n",
    "        selectInput(\"myNames\",\"Names\", \"\"),\n",
    "        tableOutput(\"contents\")\n",
    "    )\n",
    ")\n",
    "\n",
    "server <- function(input, output, session) {\n",
    "\n",
    "    myData <- reactive({\n",
    "        inFile <- input$file1\n",
    "        if (is.null(inFile)) {\n",
    "            d <- myDataFrame\n",
    "        } else {\n",
    "            d <- readRDS(inFile$datapath)\n",
    "        }\n",
    "        d\n",
    "    })\n",
    "\n",
    "    output$contents <- renderTable({\n",
    "        myData()\n",
    "    })\n",
    "\n",
    "    observe({\n",
    "         updateSelectInput(session, \"myNames\",\n",
    "                           label = \"myNames\",\n",
    "                           choices = myData()$names,\n",
    "                           selected = myData()$names[1])\n",
    "    })\n",
    "\n",
    "}\n",
    "\n",
    "shinyApp(ui, server)\n"
   ]
  }
 ],
 "metadata": {
  "kernelspec": {
   "display_name": "R",
   "language": "R",
   "name": "ir"
  },
  "language_info": {
   "codemirror_mode": "r",
   "file_extension": ".r",
   "mimetype": "text/x-r-source",
   "name": "R",
   "pygments_lexer": "r",
   "version": "4.0.3"
  }
 },
 "nbformat": 4,
 "nbformat_minor": 4
}
